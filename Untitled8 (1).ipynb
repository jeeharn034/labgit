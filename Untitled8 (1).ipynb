{
  "nbformat": 4,
  "nbformat_minor": 0,
  "metadata": {
    "colab": {
      "provenance": []
    },
    "kernelspec": {
      "name": "python3",
      "display_name": "Python 3"
    },
    "language_info": {
      "name": "python"
    }
  },
  "cells": [
    {
      "cell_type": "code",
      "execution_count": 19,
      "metadata": {
        "id": "Jb11Ij8vecKK"
      },
      "outputs": [],
      "source": [
        "class Pokemon:\n",
        "    def __init__(self, name, type, level, health):\n",
        "        self.name = name\n",
        "        self.__ptype = type\n",
        "        self.__level = level\n",
        "        self.__health = health\n",
        "\n",
        "\n",
        "    def get_name(self):\n",
        "        return self.name\n",
        "\n",
        "    def set_name(self, name):\n",
        "        self.name = name\n",
        "\n",
        "    def get_type(self):\n",
        "        return self.__ptype\n",
        "\n",
        "    def get_level(self):\n",
        "        return self.__level\n",
        "\n",
        "    def get_health(self):\n",
        "        return self.__health\n",
        "\n",
        "\n",
        "    def attack(self, target):\n",
        "        target.take_damage(self.__level * 5)\n",
        "        print(f\"{self.name} attacks {target.name}!\")\n",
        "\n",
        "    def take_damage(self, damage):\n",
        "        self.__health -= damage\n",
        "        print(f\"{self.name} takes {damage} damage! HP left: {self.__health}\")\n",
        "\n",
        "    def level_up(self):\n",
        "        self.__level += 1\n",
        "        self.__health += 10\n",
        "        print(f\"{self.name} leveled up to {self.__level}!\")\n"
      ]
    },
    {
      "cell_type": "code",
      "source": [
        "class Pokedex:\n",
        "    def __init__(self):\n",
        "        self.pokemon = []\n",
        "\n",
        "    def catch(self, pokedex):\n",
        "        pokedex.append(self)\n",
        "        print(f\"Added {self.name} to Pokedex.\")\n",
        "\n",
        "    def release(self, pokemon_name):\n",
        "        for pokemon in self.pokemon:\n",
        "            if pokemon.name == pokemon_name:\n",
        "                self.pokemon.remove(pokemon)\n",
        "                print(f\"Released {pokemon_name} from Pokedex.\")\n",
        "                return\n",
        "\n",
        "    def find_pokemon(self, pokemon_name):\n",
        "        for pokemon in self.pokemon:\n",
        "            if pokemon.name == pokemon_name:\n",
        "                return pokemon\n",
        "        return None\n"
      ],
      "metadata": {
        "id": "6EgPCWxAJmk9"
      },
      "execution_count": 14,
      "outputs": []
    },
    {
      "cell_type": "code",
      "source": [
        "class Trainer:\n",
        "    def __init__(self, name, pokedex):\n",
        "        self.name = name\n",
        "        self.__pokedex = pokedex\n",
        "\n",
        "\n",
        "    def catch_pokemon(self, pokemon):\n",
        "        self.__pokedex.append(pokemon)\n",
        "        print(f\"{self.name} caught {pokemon.name}!\")\n",
        "\n",
        "    def train_pokemon(self, pokemon_name):\n",
        "        for pokemon in self.__pokedex:\n",
        "            if pokemon.name == pokemon_name:\n",
        "                print(f\"{self.name} trained {pokemon.name}!\")\n",
        "                pokemon.level_up()\n",
        "                return\n",
        "        print(f\"{pokemon_name} is not in {self.name}'s Pokedex.\")\n",
        "\n",
        "    def release_pokemon(self, pokemon_name):\n",
        "        for pokemon in self.__pokedex:\n",
        "            if pokemon.name == pokemon_name:\n",
        "                self.__pokedex.remove(pokemon)\n",
        "                print(f\"{self.name} released {pokemon.name}.\")\n",
        "                return\n",
        "        print(f\"{pokemon_name} is not in {self.__name}'s Pokedex.\")\n"
      ],
      "metadata": {
        "id": "y-Wv9MtSI-4t"
      },
      "execution_count": 15,
      "outputs": []
    },
    {
      "cell_type": "code",
      "source": [
        "pokedex = []\n",
        "charizard = Pokemon('CharizardEx', 'fire', 50 , 150)\n",
        "satoshi = Trainer('Satoshi', pokedex)\n",
        "satoshi.catch_pokemon(charizard)\n",
        "\n",
        "print('\\n-------Pokedex-------')\n",
        "print(pokedex[0].name)\n",
        "print(pokedex[1].name)\n",
        "print('-------Pokedex-------\\n')\n",
        "\n",
        "satoshi.train_pokemon('CharizardEx')\n",
        "satoshi.train_pokemon('CharizardEx')\n",
        "satoshi.release_pokemon('CharizardEx')\n",
        "\n",
        "print('\\n-------Pokedex-------')\n",
        "print(pokedex[0].name)\n",
        "print(pokedex[0].name)\n",
        "print('-------Pokedex-------\\n')\n"
      ],
      "metadata": {
        "colab": {
          "base_uri": "https://localhost:8080/"
        },
        "id": "yxsbftP9JVOV",
        "outputId": "923f2d2b-1dee-49bc-ec48-80e2d0bf40d9"
      },
      "execution_count": 16,
      "outputs": [
        {
          "output_type": "stream",
          "name": "stdout",
          "text": [
            "Satoshi caught PikachuEx!\n",
            "Satoshi caught CharizardEx!\n",
            "\n",
            "-------Pokedex-------\n",
            "PikachuEx\n",
            "CharizardEx\n",
            "-------Pokedex-------\n",
            "\n",
            "Satoshi trained CharizardEx!\n",
            "CharizardEx leveled up to 51!\n",
            "Satoshi trained CharizardEx!\n",
            "CharizardEx leveled up to 52!\n",
            "Satoshi released CharizardEx.\n",
            "\n",
            "-------Pokedex-------\n",
            "PikachuEx\n",
            "PikachuEx\n",
            "-------Pokedex-------\n",
            "\n"
          ]
        }
      ]
    },
    {
      "cell_type": "code",
      "source": [
        "pokedex = []\n",
        "charizard = Pokemon('CharizardEx', 'fire', 50 , 150)\n",
        "satoshi = Trainer('Satoshi', pokedex)\n",
        "satoshi.catch_pokemon(charizard)\n",
        "\n",
        "Golduck = Pokemon('GolduckEx', 'water', 35 , 125)\n",
        "Gyarados = Pokemon('GyaradosEx', 'water', 59 , 200)\n",
        "print('\\n--------------')\n",
        "print('--------------\\n')\n",
        "Red = Trainer('Red', pokedex)\n",
        "Red.catch_pokemon(Golduck)\n",
        "Red.catch_pokemon(Gyarados)\n",
        "\n",
        "\n",
        "\n"
      ],
      "metadata": {
        "colab": {
          "base_uri": "https://localhost:8080/"
        },
        "id": "NY-thU3HLDlW",
        "outputId": "53dfc0dd-35fe-43c9-c8da-f18292af6851"
      },
      "execution_count": 17,
      "outputs": [
        {
          "output_type": "stream",
          "name": "stdout",
          "text": [
            "Satoshi caught PikachuEx!\n",
            "Satoshi caught CharizardEx!\n",
            "\n",
            "--------------\n",
            "--------------\n",
            "\n",
            "Red caught PikachuEx!\n",
            "Red caught GolduckEx!\n",
            "Red caught GyaradosEx!\n"
          ]
        }
      ]
    },
    {
      "cell_type": "code",
      "source": [
        "charizard.attack(Golduck)\n",
        "Golduck.attack(charizard)"
      ],
      "metadata": {
        "colab": {
          "base_uri": "https://localhost:8080/"
        },
        "id": "kmou7RqeMpJe",
        "outputId": "639ca993-bb65-4823-d4ab-770bdfffb652"
      },
      "execution_count": 18,
      "outputs": [
        {
          "output_type": "stream",
          "name": "stdout",
          "text": [
            "GolduckEx takes 250 damage! HP left: -125\n",
            "CharizardEx attacks GolduckEx!\n",
            "CharizardEx takes 175 damage! HP left: -25\n",
            "GolduckEx attacks CharizardEx!\n"
          ]
        }
      ]
    }
  ]
}